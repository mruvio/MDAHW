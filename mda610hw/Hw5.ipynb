{
 "cells": [
  {
   "cell_type": "code",
   "execution_count": 17,
   "metadata": {},
   "outputs": [],
   "source": [
    "import math"
   ]
  },
  {
   "cell_type": "code",
   "execution_count": 16,
   "metadata": {},
   "outputs": [
    {
     "name": "stdout",
     "output_type": "stream",
     "text": [
      "Please input a numeric grade: 70\n",
      "70.0 is C\n",
      "\n"
     ]
    }
   ],
   "source": [
    "def main():\n",
    "    scores = input(\"Please input a numeric grade: \")\n",
    "    return [int(num) for num in scores.split(\",\")]\n",
    "\n",
    "\n",
    "def determine_grade(num):\n",
    "    if 90 <= num <= 100:\n",
    "        letter_grade = \"A\"\n",
    "    elif 80 <= num <= 89:\n",
    "        letter_grade = \"B\"\n",
    "    elif 70 <= num <= 79:\n",
    "        letter_grade = \"C\"\n",
    "    elif 60 <= num <= 69:\n",
    "        letter_grade = \"D\"\n",
    "    else:\n",
    "        letter_grade = \"F\"\n",
    "    return letter_grade\n",
    "\n",
    "\n",
    "def show_letters(num, letter_grade):\n",
    "    print(\"{:.1f} is {}\\n\".format(n,letter_grade))\n",
    "\n",
    "\n",
    "lst = main()\n",
    "for n in lst:\n",
    "    show_letters(n, determine_grade(n))\n"
   ]
  },
  {
   "cell_type": "code",
   "execution_count": 18,
   "metadata": {},
   "outputs": [
    {
     "name": "stdout",
     "output_type": "stream",
     "text": [
      "[2, 3, 4, 6]\n"
     ]
    }
   ],
   "source": [
    "lista = [1,2,3,4,5,6]\n",
    "listb = [2,3,4,6,8,9]\n",
    "newlist = [x for x in lista if x == x in listb]\n",
    "print(newlist)\n"
   ]
  },
  {
   "cell_type": "code",
   "execution_count": 19,
   "metadata": {},
   "outputs": [
    {
     "name": "stdout",
     "output_type": "stream",
     "text": [
      "(1, 2, 3, 4, 5)\n",
      "(2, 4, 6, 8, 10)\n",
      "(3, 6, 9, 12, 15)\n",
      "(4, 8, 12, 16, 20)\n"
     ]
    }
   ],
   "source": [
    "for i in range(1,5):\n",
    "    list = (i, i*2, i*3, i*4, i*5)\n",
    "    print(list)"
   ]
  },
  {
   "cell_type": "code",
   "execution_count": 20,
   "metadata": {},
   "outputs": [
    {
     "name": "stdout",
     "output_type": "stream",
     "text": [
      "200\n",
      "200,202\n",
      "200,202,204\n",
      "200,202,204,206\n",
      "200,202,204,206,208\n",
      "200,202,204,206,208,220\n",
      "200,202,204,206,208,220,222\n",
      "200,202,204,206,208,220,222,224\n",
      "200,202,204,206,208,220,222,224,226\n",
      "200,202,204,206,208,220,222,224,226,228\n",
      "200,202,204,206,208,220,222,224,226,228,240\n",
      "200,202,204,206,208,220,222,224,226,228,240,242\n",
      "200,202,204,206,208,220,222,224,226,228,240,242,244\n",
      "200,202,204,206,208,220,222,224,226,228,240,242,244,246\n",
      "200,202,204,206,208,220,222,224,226,228,240,242,244,246,248\n",
      "200,202,204,206,208,220,222,224,226,228,240,242,244,246,248,260\n",
      "200,202,204,206,208,220,222,224,226,228,240,242,244,246,248,260,262\n",
      "200,202,204,206,208,220,222,224,226,228,240,242,244,246,248,260,262,264\n",
      "200,202,204,206,208,220,222,224,226,228,240,242,244,246,248,260,262,264,266\n",
      "200,202,204,206,208,220,222,224,226,228,240,242,244,246,248,260,262,264,266,268\n",
      "200,202,204,206,208,220,222,224,226,228,240,242,244,246,248,260,262,264,266,268,280\n",
      "200,202,204,206,208,220,222,224,226,228,240,242,244,246,248,260,262,264,266,268,280,282\n",
      "200,202,204,206,208,220,222,224,226,228,240,242,244,246,248,260,262,264,266,268,280,282,284\n",
      "200,202,204,206,208,220,222,224,226,228,240,242,244,246,248,260,262,264,266,268,280,282,284,286\n",
      "200,202,204,206,208,220,222,224,226,228,240,242,244,246,248,260,262,264,266,268,280,282,284,286,288\n",
      "200,202,204,206,208,220,222,224,226,228,240,242,244,246,248,260,262,264,266,268,280,282,284,286,288,400\n"
     ]
    }
   ],
   "source": [
    "items=[]\n",
    "for i in range(100,401):\n",
    "    s = str(i)\n",
    "    if(int(s[0])%2==0) and (int(s[1])%2==0) and (int(s[2])%2==0):\n",
    "        items.append(s)\n",
    "        print(\",\".join(items))\n",
    "    "
   ]
  },
  {
   "cell_type": "code",
   "execution_count": null,
   "metadata": {},
   "outputs": [],
   "source": [
    "from collections import counter\n",
    "d1 = {'A':200, 'B':300, 'C':400}\n",
    "d2 = {'A':50, 'B':20, 'D':10, 'E':60}\n",
    "d = counter(d1) + counter(d2)\n",
    "print(d)"
   ]
  }
 ],
 "metadata": {
  "kernelspec": {
   "display_name": "Python 3",
   "language": "python",
   "name": "python3"
  },
  "language_info": {
   "codemirror_mode": {
    "name": "ipython",
    "version": 3
   },
   "file_extension": ".py",
   "mimetype": "text/x-python",
   "name": "python",
   "nbconvert_exporter": "python",
   "pygments_lexer": "ipython3",
   "version": "3.7.3"
  }
 },
 "nbformat": 4,
 "nbformat_minor": 2
}
