{
 "cells": [
  {
   "cell_type": "code",
   "execution_count": 31,
   "metadata": {},
   "outputs": [
    {
     "data": {
      "text/plain": [
       "{'q': 1, 'w': 1, 'e': 2, 'r': 2, 't': 1, 'a': 1, 's': 1, 'd': 3, 'j': 1}"
      ]
     },
     "execution_count": 31,
     "metadata": {},
     "output_type": "execute_result"
    }
   ],
   "source": [
    "def freq(str):\n",
    "    fq = {}\n",
    "    \n",
    "    for i in str:\n",
    "        if i in fq:\n",
    "            fq[i] += 1\n",
    "        else:\n",
    "            fq[i] = 1\n",
    "    return fq\n",
    "freq(\"qwertasddjder\")\n"
   ]
  },
  {
   "cell_type": "code",
   "execution_count": 30,
   "metadata": {},
   "outputs": [
    {
     "data": {
      "text/plain": [
       "(1, 45)"
      ]
     },
     "execution_count": 30,
     "metadata": {},
     "output_type": "execute_result"
    }
   ],
   "source": [
    "def min_and_max(nums):\n",
    "    min_value = None\n",
    "    max_value = None\n",
    "    for x in nums:\n",
    "        if not min_value:\n",
    "            min_value = x\n",
    "        if not max_value:\n",
    "            max_value = x\n",
    "        elif x < min_value:\n",
    "            min_value = x\n",
    "        elif x > max_value:\n",
    "            max_value = x\n",
    "    return min_value,max_value\n",
    "min_and_max([1,23,45,6])\n"
   ]
  },
  {
   "cell_type": "code",
   "execution_count": 22,
   "metadata": {},
   "outputs": [
    {
     "data": {
      "text/plain": [
       "[1, 3, 6, 10]"
      ]
     },
     "execution_count": 22,
     "metadata": {},
     "output_type": "execute_result"
    }
   ],
   "source": [
    "def cum_sum(nums):\n",
    "    total = 0\n",
    "    cumsum = []\n",
    "    for x in nums:\n",
    "        total += x\n",
    "        cumsum.append(total)\n",
    "    return cumsum\n",
    "cum_sum([1,2,3,4])"
   ]
  },
  {
   "cell_type": "code",
   "execution_count": 1,
   "metadata": {},
   "outputs": [
    {
     "data": {
      "text/plain": [
       "14"
      ]
     },
     "execution_count": 1,
     "metadata": {},
     "output_type": "execute_result"
    }
   ],
   "source": [
    "def dot (k, l):\n",
    "    if len(k) != len(l):\n",
    "        return 0\n",
    "    return sum(i[0] * i[1] for i in zip(k,l))\n",
    "dot([1,2,3],[1,2,3])"
   ]
  }
 ],
 "metadata": {
  "kernelspec": {
   "display_name": "Python 3",
   "language": "python",
   "name": "python3"
  },
  "language_info": {
   "codemirror_mode": {
    "name": "ipython",
    "version": 3
   },
   "file_extension": ".py",
   "mimetype": "text/x-python",
   "name": "python",
   "nbconvert_exporter": "python",
   "pygments_lexer": "ipython3",
   "version": "3.7.3"
  }
 },
 "nbformat": 4,
 "nbformat_minor": 2
}
