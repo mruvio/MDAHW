{
 "cells": [
  {
   "cell_type": "code",
   "execution_count": 1,
   "metadata": {},
   "outputs": [
    {
     "name": "stdout",
     "output_type": "stream",
     "text": [
      "3.0\n",
      "2.0\n",
      "1.5811388300841898\n"
     ]
    }
   ],
   "source": [
    "import numpy as np\n",
    "\n",
    "def mean(values):\n",
    "    \n",
    "    length = len(values)\n",
    "    total_sum = 0\n",
    "    for i in range(length):\n",
    "        total_sum += values[i]\n",
    "    total_sum = sum(values)\n",
    "    mean = total_sum / length\n",
    "    return mean\n",
    "\n",
    "print(mean([1,2,3,4,5]))\n",
    "\n",
    "\n",
    "def get_variance(xs):\n",
    "    mean = np.mean(xs)\n",
    "    summed = 0\n",
    "    for x in xs:\n",
    "        summed += (x - mean)**2\n",
    "    return summed / (len(xs))\n",
    "print(get_variance([1,2,3,4,5]))\n",
    "\n",
    "\n",
    "from math import sqrt\n",
    " \n",
    "def mean(numbers):\n",
    "    return sum(numbers)/len(numbers)\n",
    " \n",
    "a = [1, 2, 3, 4, 5]\n",
    "std_deviation = sqrt(sum([(number - mean(a)) ** 2 for number in a]) / (len(a) - 1))\n",
    "print(std_deviation)"
   ]
  },
  {
   "cell_type": "code",
   "execution_count": null,
   "metadata": {},
   "outputs": [],
   "source": [
    "data = input(\"Enter a number then enter stop to finish: \")\n",
    "numbers = []\n",
    "\n",
    "while True: \n",
    "    data = input(\"Enter a number then enter stop to finish: \")\n",
    "    if data == \"\":\n",
    "        break\n",
    "    numbers.append(float(data))\n",
    "count = len(numbers)\n",
    "if count > 0:\n",
    "    _sum = sum(numbers)\n",
    "    product = 1.0\n",
    "    for n in numbers:\n",
    "        product *= n\n",
    "    average = _sum / float(count)\n",
    "\n",
    "    #display results\n",
    "    print(\"The sum is\", _sum)\n",
    "    print(\"The product is\", product)\n",
    "    print(\"The average is\", average)\n",
    "else:\n",
    "    print(\"Nothing was entered\")"
   ]
  },
  {
   "cell_type": "code",
   "execution_count": null,
   "metadata": {},
   "outputs": [],
   "source": []
  }
 ],
 "metadata": {
  "kernelspec": {
   "display_name": "Python 3",
   "language": "python",
   "name": "python3"
  },
  "language_info": {
   "codemirror_mode": {
    "name": "ipython",
    "version": 3
   },
   "file_extension": ".py",
   "mimetype": "text/x-python",
   "name": "python",
   "nbconvert_exporter": "python",
   "pygments_lexer": "ipython3",
   "version": "3.7.3"
  }
 },
 "nbformat": 4,
 "nbformat_minor": 2
}
